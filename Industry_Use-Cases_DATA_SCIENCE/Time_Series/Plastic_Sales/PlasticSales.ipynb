{
 "cells": [
  {
   "cell_type": "markdown",
   "id": "2b3f13b0-5b0c-481e-aa68-299cbdc60441",
   "metadata": {},
   "source": [
    "# Problem Statement"
   ]
  },
  {
   "cell_type": "markdown",
   "id": "f005c9cf-15f8-4478-baa5-c558820ae15a",
   "metadata": {},
   "source": [
    "3. A plastics manufacturing plant has recorded their monthly sales data from 1949 to 1953. Perform forecasting on the data and bring out insights from it and forecast the sale for the next year. \n",
    "\n",
    "Dataset: Plastic Sales.csv"
   ]
  },
  {
   "cell_type": "markdown",
   "id": "ba7e3f3f-6afa-49d4-8b26-f6d94b265d9c",
   "metadata": {},
   "source": [
    "# Business Objective: \n",
    "\n",
    "1. Predict Future Sales: Forecast next year's sales based on historical data (1949-1953).\n",
    "2. Optimize Production and Inventory: Align production schedules with predicted demand.\n",
    "3. Strategic Decision Making: Inform decisions on product expansion or market targeting.\n",
    "4. Maximize Profitability: Adjust production to avoid overproduction or stockouts.\n"
   ]
  },
  {
   "cell_type": "markdown",
   "id": "05230a67-f898-40c9-a934-27c8780aac17",
   "metadata": {},
   "source": [
    "# Business Constraints:\n",
    "\n",
    "1. Data Quality: Inaccurate or missing data could impact forecasting.\n",
    "2. External Factors: Changes in market conditions or seasonality might affect sales.\n",
    "3. Model Accuracy: Different models have varying accuracy; choosing the right one is key.\n",
    "4. Business Limitations: Limited resources for scaling production based on forecast.\n",
    "\n"
   ]
  },
  {
   "cell_type": "code",
   "execution_count": 1,
   "id": "a9ab1f62-1831-489c-9918-0fa3a66a2c9c",
   "metadata": {},
   "outputs": [],
   "source": [
    "import pandas as pd\n",
    "import numpy as np\n",
    "import matplotlib.pyplot as plt\n",
    "from statsmodels.tsa.seasonal import seasonal_decompose\n",
    "from statsmodels.tsa.statespace.sarimax import SARIMAX\n",
    "from statsmodels.graphics.tsaplots import plot_acf, plot_pacf\n",
    "from statsmodels.tsa.stattools import adfuller\n",
    "\n",
    "from sklearn.metrics import mean_absolute_error, mean_squared_error\n",
    "import warnings\n",
    "warnings.filterwarnings(\"ignore\")"
   ]
  },
  {
   "cell_type": "code",
   "execution_count": 2,
   "id": "f5ab2ae7-3c2c-43b7-aaa5-b9a780f7f5ff",
   "metadata": {},
   "outputs": [
    {
     "data": {
      "text/html": [
       "<div>\n",
       "<style scoped>\n",
       "    .dataframe tbody tr th:only-of-type {\n",
       "        vertical-align: middle;\n",
       "    }\n",
       "\n",
       "    .dataframe tbody tr th {\n",
       "        vertical-align: top;\n",
       "    }\n",
       "\n",
       "    .dataframe thead th {\n",
       "        text-align: right;\n",
       "    }\n",
       "</style>\n",
       "<table border=\"1\" class=\"dataframe\">\n",
       "  <thead>\n",
       "    <tr style=\"text-align: right;\">\n",
       "      <th></th>\n",
       "      <th>Month</th>\n",
       "      <th>Sales</th>\n",
       "    </tr>\n",
       "  </thead>\n",
       "  <tbody>\n",
       "    <tr>\n",
       "      <th>0</th>\n",
       "      <td>Jan-49</td>\n",
       "      <td>742</td>\n",
       "    </tr>\n",
       "    <tr>\n",
       "      <th>1</th>\n",
       "      <td>Feb-49</td>\n",
       "      <td>697</td>\n",
       "    </tr>\n",
       "    <tr>\n",
       "      <th>2</th>\n",
       "      <td>Mar-49</td>\n",
       "      <td>776</td>\n",
       "    </tr>\n",
       "    <tr>\n",
       "      <th>3</th>\n",
       "      <td>Apr-49</td>\n",
       "      <td>898</td>\n",
       "    </tr>\n",
       "    <tr>\n",
       "      <th>4</th>\n",
       "      <td>May-49</td>\n",
       "      <td>1030</td>\n",
       "    </tr>\n",
       "  </tbody>\n",
       "</table>\n",
       "</div>"
      ],
      "text/plain": [
       "    Month  Sales\n",
       "0  Jan-49    742\n",
       "1  Feb-49    697\n",
       "2  Mar-49    776\n",
       "3  Apr-49    898\n",
       "4  May-49   1030"
      ]
     },
     "execution_count": 2,
     "metadata": {},
     "output_type": "execute_result"
    }
   ],
   "source": [
    "df=pd.read_csv(\"PlasticSales.csv\")\n",
    "df.head()"
   ]
  },
  {
   "cell_type": "markdown",
   "id": "e7ac9f9f-924f-461d-9165-8da909b33c62",
   "metadata": {},
   "source": [
    "# Data Exploration"
   ]
  },
  {
   "cell_type": "code",
   "execution_count": 3,
   "id": "4bd45a44-9138-4ba4-a310-97ecef13f92f",
   "metadata": {},
   "outputs": [
    {
     "data": {
      "text/plain": [
       "(60, 2)"
      ]
     },
     "execution_count": 3,
     "metadata": {},
     "output_type": "execute_result"
    }
   ],
   "source": [
    "df.shape"
   ]
  },
  {
   "cell_type": "code",
   "execution_count": 4,
   "id": "70157645-a873-479b-8d0d-bfd2d5c5a72e",
   "metadata": {},
   "outputs": [
    {
     "data": {
      "text/html": [
       "<div>\n",
       "<style scoped>\n",
       "    .dataframe tbody tr th:only-of-type {\n",
       "        vertical-align: middle;\n",
       "    }\n",
       "\n",
       "    .dataframe tbody tr th {\n",
       "        vertical-align: top;\n",
       "    }\n",
       "\n",
       "    .dataframe thead th {\n",
       "        text-align: right;\n",
       "    }\n",
       "</style>\n",
       "<table border=\"1\" class=\"dataframe\">\n",
       "  <thead>\n",
       "    <tr style=\"text-align: right;\">\n",
       "      <th></th>\n",
       "      <th>Sales</th>\n",
       "    </tr>\n",
       "  </thead>\n",
       "  <tbody>\n",
       "    <tr>\n",
       "      <th>count</th>\n",
       "      <td>60.000000</td>\n",
       "    </tr>\n",
       "    <tr>\n",
       "      <th>mean</th>\n",
       "      <td>1162.366667</td>\n",
       "    </tr>\n",
       "    <tr>\n",
       "      <th>std</th>\n",
       "      <td>266.431469</td>\n",
       "    </tr>\n",
       "    <tr>\n",
       "      <th>min</th>\n",
       "      <td>697.000000</td>\n",
       "    </tr>\n",
       "    <tr>\n",
       "      <th>25%</th>\n",
       "      <td>947.750000</td>\n",
       "    </tr>\n",
       "    <tr>\n",
       "      <th>50%</th>\n",
       "      <td>1148.000000</td>\n",
       "    </tr>\n",
       "    <tr>\n",
       "      <th>75%</th>\n",
       "      <td>1362.500000</td>\n",
       "    </tr>\n",
       "    <tr>\n",
       "      <th>max</th>\n",
       "      <td>1637.000000</td>\n",
       "    </tr>\n",
       "  </tbody>\n",
       "</table>\n",
       "</div>"
      ],
      "text/plain": [
       "             Sales\n",
       "count    60.000000\n",
       "mean   1162.366667\n",
       "std     266.431469\n",
       "min     697.000000\n",
       "25%     947.750000\n",
       "50%    1148.000000\n",
       "75%    1362.500000\n",
       "max    1637.000000"
      ]
     },
     "execution_count": 4,
     "metadata": {},
     "output_type": "execute_result"
    }
   ],
   "source": [
    "df.describe()"
   ]
  },
  {
   "cell_type": "code",
   "execution_count": 5,
   "id": "675f7721-0c1b-4b4d-88bc-531656224c79",
   "metadata": {},
   "outputs": [
    {
     "name": "stdout",
     "output_type": "stream",
     "text": [
      "<class 'pandas.core.frame.DataFrame'>\n",
      "RangeIndex: 60 entries, 0 to 59\n",
      "Data columns (total 2 columns):\n",
      " #   Column  Non-Null Count  Dtype \n",
      "---  ------  --------------  ----- \n",
      " 0   Month   60 non-null     object\n",
      " 1   Sales   60 non-null     int64 \n",
      "dtypes: int64(1), object(1)\n",
      "memory usage: 1.1+ KB\n"
     ]
    }
   ],
   "source": [
    "df.info()"
   ]
  },
  {
   "cell_type": "code",
   "execution_count": 6,
   "id": "eef99831-d1fb-4d72-83c7-bf14ff315dd1",
   "metadata": {},
   "outputs": [
    {
     "data": {
      "text/plain": [
       "Month    0\n",
       "Sales    0\n",
       "dtype: int64"
      ]
     },
     "execution_count": 6,
     "metadata": {},
     "output_type": "execute_result"
    }
   ],
   "source": [
    "df.isnull().sum()"
   ]
  },
  {
   "cell_type": "code",
   "execution_count": 7,
   "id": "c8fa5796-59a1-4f06-883e-b5bdea6d2655",
   "metadata": {},
   "outputs": [
    {
     "data": {
      "text/plain": [
       "Index(['Month', 'Sales'], dtype='object')"
      ]
     },
     "execution_count": 7,
     "metadata": {},
     "output_type": "execute_result"
    }
   ],
   "source": [
    "\n",
    "df.columns"
   ]
  },
  {
   "cell_type": "code",
   "execution_count": 8,
   "id": "ef9a8bd7-5da0-49fa-9701-3d14f9ccc02c",
   "metadata": {},
   "outputs": [
    {
     "data": {
      "text/html": [
       "<div>\n",
       "<style scoped>\n",
       "    .dataframe tbody tr th:only-of-type {\n",
       "        vertical-align: middle;\n",
       "    }\n",
       "\n",
       "    .dataframe tbody tr th {\n",
       "        vertical-align: top;\n",
       "    }\n",
       "\n",
       "    .dataframe thead th {\n",
       "        text-align: right;\n",
       "    }\n",
       "</style>\n",
       "<table border=\"1\" class=\"dataframe\">\n",
       "  <thead>\n",
       "    <tr style=\"text-align: right;\">\n",
       "      <th></th>\n",
       "      <th>Month</th>\n",
       "      <th>Sales</th>\n",
       "    </tr>\n",
       "  </thead>\n",
       "  <tbody>\n",
       "    <tr>\n",
       "      <th>0</th>\n",
       "      <td>Jan-49</td>\n",
       "      <td>742</td>\n",
       "    </tr>\n",
       "    <tr>\n",
       "      <th>1</th>\n",
       "      <td>Feb-49</td>\n",
       "      <td>697</td>\n",
       "    </tr>\n",
       "    <tr>\n",
       "      <th>2</th>\n",
       "      <td>Mar-49</td>\n",
       "      <td>776</td>\n",
       "    </tr>\n",
       "    <tr>\n",
       "      <th>3</th>\n",
       "      <td>Apr-49</td>\n",
       "      <td>898</td>\n",
       "    </tr>\n",
       "    <tr>\n",
       "      <th>4</th>\n",
       "      <td>May-49</td>\n",
       "      <td>1030</td>\n",
       "    </tr>\n",
       "  </tbody>\n",
       "</table>\n",
       "</div>"
      ],
      "text/plain": [
       "    Month  Sales\n",
       "0  Jan-49    742\n",
       "1  Feb-49    697\n",
       "2  Mar-49    776\n",
       "3  Apr-49    898\n",
       "4  May-49   1030"
      ]
     },
     "execution_count": 8,
     "metadata": {},
     "output_type": "execute_result"
    }
   ],
   "source": [
    "df.head()"
   ]
  },
  {
   "cell_type": "code",
   "execution_count": 9,
   "id": "af77cb65-8958-4eec-9dd2-8d797973b99c",
   "metadata": {},
   "outputs": [
    {
     "name": "stdout",
     "output_type": "stream",
     "text": [
      "            Sales\n",
      "Month            \n",
      "1949-01-01    742\n",
      "1949-02-01    697\n",
      "1949-03-01    776\n",
      "1949-04-01    898\n",
      "1949-05-01   1030\n",
      "1949-01-01 00:00:00\n"
     ]
    }
   ],
   "source": [
    "import pandas as pd\n",
    "\n",
    "# Load the CSV\n",
    "df = pd.read_csv(\"PlasticSales.csv\")\n",
    "\n",
    "# Rename the first column to 'Month' if it's unnamed\n",
    "if 'Month' not in df.columns:\n",
    "    df.rename(columns={df.columns[0]: 'Month'}, inplace=True)\n",
    "\n",
    "# Convert Month column to datetime (assume all years are 1900s)\n",
    "df['Month'] = pd.to_datetime(df['Month'], format='%b-%y')\n",
    "\n",
    "# Manually fix year if > 2025 (assuming the original data starts in 1949)\n",
    "df['Month'] = df['Month'].apply(lambda x: x.replace(year=x.year - 100) if x.year > 2025 else x)\n",
    "\n",
    "# Set Month as index\n",
    "df.set_index('Month', inplace=True)\n",
    "\n",
    "# Preview result\n",
    "print(df.head())\n",
    "print(df.index.min())\n"
   ]
  },
  {
   "cell_type": "code",
   "execution_count": null,
   "id": "0f84274f-7e98-4e69-83a6-a7357d7d2fe0",
   "metadata": {},
   "outputs": [],
   "source": []
  },
  {
   "cell_type": "code",
   "execution_count": null,
   "id": "2f1855a1-0f6b-4286-b1eb-397ba08725d6",
   "metadata": {},
   "outputs": [],
   "source": []
  },
  {
   "cell_type": "code",
   "execution_count": 10,
   "id": "8c19a357-3962-467d-aa9e-d01db3a71d4f",
   "metadata": {},
   "outputs": [
    {
     "name": "stdout",
     "output_type": "stream",
     "text": [
      "            Sales\n",
      "Month            \n",
      "1949-01-01    742\n",
      "1949-02-01    697\n",
      "1949-03-01    776\n",
      "1949-04-01    898\n",
      "1949-05-01   1030\n",
      "1949-01-01 00:00:00\n"
     ]
    }
   ],
   "source": [
    "# Step 3: Check it's working\n",
    "print(df.head())\n",
    "print(df.index.min())  # Should be 1950-01-01\n"
   ]
  },
  {
   "cell_type": "code",
   "execution_count": 11,
   "id": "f2498222-180f-4bc5-a366-8856c03a2484",
   "metadata": {},
   "outputs": [
    {
     "data": {
      "image/png": "[encoded data removed]",
      "text/plain": [
       "<Figure size 1200x500 with 1 Axes>"
      ]
     },
     "metadata": {},
     "output_type": "display_data"
    }
   ],
   "source": [
    "# Plot the sales trend\n",
    "plt.figure(figsize=(12, 5))\n",
    "plt.plot(df['Sales'], marker='o',color='Red')\n",
    "plt.title('Monthly Plastic Sales (1949 - 1953)')\n",
    "plt.xlabel('Date')\n",
    "plt.ylabel('Sales')\n",
    "plt.grid(True)\n",
    "plt.tight_layout()\n",
    "plt.show()\n"
   ]
  },
  {
   "cell_type": "code",
   "execution_count": 12,
   "id": "cc28fa1f-f448-4eb5-9589-329d3e7b8a6f",
   "metadata": {},
   "outputs": [
    {
     "data": {
      "text/plain": [
       "Timestamp('1949-01-01 00:00:00')"
      ]
     },
     "execution_count": 12,
     "metadata": {},
     "output_type": "execute_result"
    }
   ],
   "source": [
    "df.index.min()  # This should show Timestamp('1950-01-01')\n"
   ]
  },
  {
   "cell_type": "code",
   "execution_count": 13,
   "id": "9a19d6f3-1c4f-44f4-98ff-6405e11ffbad",
   "metadata": {},
   "outputs": [
    {
     "data": {
      "text/plain": [
       "{'ADF Statistic': -0.7425639844129008,\n",
       " 'p-value': 0.8354143931554416,\n",
       " 'Used Lag': 10,\n",
       " 'Number of Observations': 49,\n",
       " 'Critical Values': {'1%': -3.5714715250448363,\n",
       "  '5%': -2.922629480573571,\n",
       "  '10%': -2.5993358475635153}}"
      ]
     },
     "execution_count": 13,
     "metadata": {},
     "output_type": "execute_result"
    }
   ],
   "source": [
    "# Perform Augmented Dickey-Fuller test\n",
    "adf_result = adfuller(df['Sales'])\n",
    "adf_result_output = {\n",
    "    'ADF Statistic': adf_result[0],\n",
    "    'p-value': adf_result[1],\n",
    "    'Used Lag': adf_result[2],\n",
    "    'Number of Observations': adf_result[3],\n",
    "    'Critical Values': adf_result[4]\n",
    "}\n",
    "\n",
    "adf_result_output"
   ]
  },
  {
   "cell_type": "raw",
   "id": "7728a158-d573-4f95-8f00-745e518911c8",
   "metadata": {},
   "source": [
    "The Augmented Dickey-Fuller (ADF) test results show:\n",
    "ADF Statistic = -0.743\n",
    "p-value = 0.835 (>> 0.05)\n",
    "This means the time series is not stationary, which is a requirement for ARIMA. We'll difference the data to make it stationary before fitting the ARIMA model. Let's apply first-order differencing and test again. ​​\n",
    "\n",
    "\n"
   ]
  },
  {
   "cell_type": "code",
   "execution_count": 14,
   "id": "503ba4a2-0443-4b22-ba31-987ef651c514",
   "metadata": {},
   "outputs": [],
   "source": [
    "# First-order differencing\n",
    "df_diff = df['Sales'].diff().dropna()"
   ]
  },
  {
   "cell_type": "code",
   "execution_count": 15,
   "id": "850de631-cfce-446f-b90f-9faa02038e74",
   "metadata": {},
   "outputs": [
    {
     "data": {
      "text/plain": [
       "{'ADF Statistic': -1.11838433115413,\n",
       " 'p-value': 0.7076850425725221,\n",
       " 'Used Lag': 11,\n",
       " 'Number of Observations': 47,\n",
       " 'Critical Values': {'1%': -3.5778480370438146,\n",
       "  '5%': -2.925338105429433,\n",
       "  '10%': -2.6007735310095064}}"
      ]
     },
     "execution_count": 15,
     "metadata": {},
     "output_type": "execute_result"
    }
   ],
   "source": [
    "# ADF test on differenced data\n",
    "adf_result_diff = adfuller(df_diff)\n",
    "adf_result_diff_output = {\n",
    "    'ADF Statistic': adf_result_diff[0],\n",
    "    'p-value': adf_result_diff[1],\n",
    "    'Used Lag': adf_result_diff[2],\n",
    "    'Number of Observations': adf_result_diff[3],\n",
    "    'Critical Values': adf_result_diff[4]\n",
    "}\n",
    "\n",
    "adf_result_diff_output"
   ]
  },
  {
   "cell_type": "markdown",
   "id": "a8b9e1af-97f5-4225-b526-2939fb3948ca",
   "metadata": {},
   "source": [
    " # SARIMA Model\n"
   ]
  },
  {
   "cell_type": "markdown",
   "id": "bf730389-b2dd-4c8d-ac26-4cab11cfd72c",
   "metadata": {},
   "source": [
    "# Step 5.1: Identify SARIMA Parameters"
   ]
  },
  {
   "cell_type": "markdown",
   "id": "35beeb71-cbad-4576-a0ef-f532849f08b9",
   "metadata": {},
   "source": [
    "# Step 5.2: Fit SARIMA Model"
   ]
  },
  {
   "cell_type": "code",
   "execution_count": 16,
   "id": "fee2d977-482c-4472-9208-c04e80e04689",
   "metadata": {},
   "outputs": [],
   "source": [
    "# Split train-test (last 12 months for testing)\n",
    "train = df.iloc[:-12]\n",
    "test = df.iloc[-12:]"
   ]
  },
  {
   "cell_type": "code",
   "execution_count": 17,
   "id": "004b5a9a-1e7a-423b-a48a-ca00ef66b810",
   "metadata": {},
   "outputs": [],
   "source": [
    "# Fit SARIMA(1,1,1)(1,1,1,12)\n",
    "model = SARIMAX(train, order=(1,1,1), seasonal_order=(1,1,1,12))\n",
    "results = model.fit(disp=False)\n"
   ]
  },
  {
   "cell_type": "code",
   "execution_count": 18,
   "id": "7e68a2d9-5e94-411f-943c-41c87d280ba5",
   "metadata": {},
   "outputs": [],
   "source": [
    "# Forecast\n",
    "forecast = results.get_forecast(steps=12)\n",
    "predicted_mean = forecast.predicted_mean\n",
    "confidence_intervals = forecast.conf_int()"
   ]
  },
  {
   "cell_type": "code",
   "execution_count": 19,
   "id": "1a1d7d59-1b76-4433-9bf4-d06fff85d03d",
   "metadata": {},
   "outputs": [
    {
     "data": {
      "image/png": "[encoded data removed]",
      "text/plain": [
       "<Figure size 1200x600 with 1 Axes>"
      ]
     },
     "metadata": {},
     "output_type": "display_data"
    }
   ],
   "source": [
    "# Plot forecast vs actual\n",
    "plt.figure(figsize=(12, 6))\n",
    "plt.plot(train.index, train, label='Train')\n",
    "plt.plot(test.index, test, label='Test')\n",
    "plt.plot(predicted_mean.index, predicted_mean, label='SARIMA Forecast', color='red')\n",
    "plt.fill_between(confidence_intervals.index, \n",
    "                 confidence_intervals.iloc[:, 0], \n",
    "                 confidence_intervals.iloc[:, 1], \n",
    "                 color='pink', alpha=0.3)\n",
    "plt.title('SARIMA Forecast vs Actual')\n",
    "plt.legend()\n",
    "plt.show()"
   ]
  },
  {
   "cell_type": "markdown",
   "id": "3887c02c-7322-466c-ac2b-7645eb13cfd7",
   "metadata": {},
   "source": [
    "# Step 5.3: Evaluate SARIMA"
   ]
  },
  {
   "cell_type": "code",
   "execution_count": 20,
   "id": "3747e2ee-d86f-4ec4-a259-0b971a63ae14",
   "metadata": {},
   "outputs": [
    {
     "name": "stdout",
     "output_type": "stream",
     "text": [
      "SARIMA MAE: 145.83, RMSE: 195.57\n"
     ]
    }
   ],
   "source": [
    "# Calculate MAE and RMSE\n",
    "mae = mean_absolute_error(test, predicted_mean)\n",
    "rmse = np.sqrt(mean_squared_error(test, predicted_mean))\n",
    "print(f'SARIMA MAE: {mae:.2f}, RMSE: {rmse:.2f}')"
   ]
  },
  {
   "cell_type": "code",
   "execution_count": 21,
   "id": "dcc5c9a9-f4e9-4180-8106-6a4f4071b1f0",
   "metadata": {},
   "outputs": [],
   "source": [
    "# Refit SARIMA on full data\n",
    "final_model = SARIMAX(df, order=(1,1,1), seasonal_order=(1,1,1,12))\n",
    "final_results = final_model.fit(disp=False)\n"
   ]
  },
  {
   "cell_type": "code",
   "execution_count": 22,
   "id": "8d10e7a8-dcb3-4575-bfa6-51b77661f4e1",
   "metadata": {},
   "outputs": [],
   "source": [
    "# Forecast 1954\n",
    "forecast_1954 = final_results.get_forecast(steps=12)\n",
    "forecast_values = forecast_1954.predicted_mean\n"
   ]
  },
  {
   "cell_type": "code",
   "execution_count": 23,
   "id": "7fb03ba3-5e4f-44d5-bef0-4f7b49e08718",
   "metadata": {},
   "outputs": [
    {
     "name": "stdout",
     "output_type": "stream",
     "text": [
      "1954 Forecasted Sales:\n",
      "1954-01-01     905.104536\n",
      "1954-02-01     878.411645\n",
      "1954-03-01     944.960224\n",
      "1954-04-01    1119.255934\n",
      "1954-05-01    1263.623792\n",
      "1954-06-01    1416.365978\n",
      "1954-07-01    1416.969913\n",
      "1954-08-01    1485.492616\n",
      "1954-09-01    1451.296707\n",
      "1954-10-01    1408.427369\n",
      "1954-11-01    1145.667836\n",
      "1954-12-01    1013.044489\n",
      "Freq: MS, Name: predicted_mean, dtype: float64\n"
     ]
    }
   ],
   "source": [
    "print(\"1954 Forecasted Sales:\")\n",
    "print(forecast_values)"
   ]
  },
  {
   "cell_type": "code",
   "execution_count": null,
   "id": "632d2f02-e5dc-4ba6-ac87-a3a2fe95665a",
   "metadata": {},
   "outputs": [],
   "source": []
  },
  {
   "cell_type": "code",
   "execution_count": null,
   "id": "967be892-4f1d-45f6-a903-b69ac9183fc8",
   "metadata": {},
   "outputs": [],
   "source": []
  }
 ],
 "metadata": {
  "kernelspec": {
   "display_name": "Python 3 (ipykernel)",
   "language": "python",
   "name": "python3"
  },
  "language_info": {
   "codemirror_mode": {
    "name": "ipython",
    "version": 3
   },
   "file_extension": ".py",
   "mimetype": "text/x-python",
   "name": "python",
   "nbconvert_exporter": "python",
   "pygments_lexer": "ipython3",
   "version": "3.12.3"
  }
 },
 "nbformat": 4,
 "nbformat_minor": 5
}
