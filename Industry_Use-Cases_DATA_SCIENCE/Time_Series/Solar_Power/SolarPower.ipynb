{
 "cells": [
  {
   "cell_type": "markdown",
   "id": "76a7c5f8-8884-4679-8325-c59b71df9cc1",
   "metadata": {},
   "source": [
    "# Problem Statement\n",
    "\n",
    "4. Solar power consumption has been recorded by city councils at regular intervals. The reason behind doing so is to understand how businesses are using solar power so that they can cut down on nonrenewable sources of energy and shift towards renewable energy. Based on the data, build a forecasting model and provide insights on it. \r\n",
    "Dataset-> \r\n",
    "Solarpower.csv"
   ]
  },
  {
   "cell_type": "markdown",
   "id": "0125cccb-aba8-4ab3-910e-4b5a95e7a58e",
   "metadata": {},
   "source": [
    "# 🎯Business Objective\n",
    "\n",
    "To forecast future solar power consumption using historical data, helping city councils and businesses shift from non-renewable to renewable energy sources effectively.\n",
    "\n"
   ]
  },
  {
   "cell_type": "markdown",
   "id": "e1d39133-441f-4fcd-86b6-f39972256ad2",
   "metadata": {},
   "source": [
    "# 🚧 Business Constraints\n",
    "\n",
    "1. Data Quality: Incomplete or irregular data can reduce accuracy.\n",
    "2. Timeliness: Forecasts must be updated regularly.\n",
    "3. Resource Limits: Simple models may be preferred due to computational constraints.\n",
    "4. Interpretability: Insights should be easy for non-technical users to understand.\n",
    "5. Scalability: Model should work for multiple cities or sectors.\n",
    "\n"
   ]
  },
  {
   "cell_type": "code",
   "execution_count": 1,
   "id": "f45d3038-0350-4c5e-a7cb-b77845a66c1a",
   "metadata": {},
   "outputs": [],
   "source": [
    "import pandas as pd\n",
    "import numpy as np\n",
    "import matplotlib.pyplot as plt\n",
    "import seaborn as sns\n",
    "from datetime import datetime\n",
    "from statsmodels.formula.api import ols\n",
    "from sklearn.metrics import mean_squared_error\n",
    "from statsmodels.tsa.holtwinters import ExponentialSmoothing"
   ]
  },
  {
   "cell_type": "code",
   "execution_count": 2,
   "id": "abf20da1-7955-4e4c-8ca4-dd451a5253c6",
   "metadata": {},
   "outputs": [
    {
     "data": {
      "text/html": [
       "<div>\n",
       "<style scoped>\n",
       "    .dataframe tbody tr th:only-of-type {\n",
       "        vertical-align: middle;\n",
       "    }\n",
       "\n",
       "    .dataframe tbody tr th {\n",
       "        vertical-align: top;\n",
       "    }\n",
       "\n",
       "    .dataframe thead th {\n",
       "        text-align: right;\n",
       "    }\n",
       "</style>\n",
       "<table border=\"1\" class=\"dataframe\">\n",
       "  <thead>\n",
       "    <tr style=\"text-align: right;\">\n",
       "      <th></th>\n",
       "      <th>date</th>\n",
       "      <th>cum_power</th>\n",
       "    </tr>\n",
       "  </thead>\n",
       "  <tbody>\n",
       "    <tr>\n",
       "      <th>0</th>\n",
       "      <td>26/10/2011</td>\n",
       "      <td>0.1</td>\n",
       "    </tr>\n",
       "    <tr>\n",
       "      <th>1</th>\n",
       "      <td>27/10/2011</td>\n",
       "      <td>10.2</td>\n",
       "    </tr>\n",
       "    <tr>\n",
       "      <th>2</th>\n",
       "      <td>28/10/2011</td>\n",
       "      <td>20.2</td>\n",
       "    </tr>\n",
       "    <tr>\n",
       "      <th>3</th>\n",
       "      <td>29/10/2011</td>\n",
       "      <td>29.6</td>\n",
       "    </tr>\n",
       "    <tr>\n",
       "      <th>4</th>\n",
       "      <td>30/10/2011</td>\n",
       "      <td>34.2</td>\n",
       "    </tr>\n",
       "  </tbody>\n",
       "</table>\n",
       "</div>"
      ],
      "text/plain": [
       "         date  cum_power\n",
       "0  26/10/2011        0.1\n",
       "1  27/10/2011       10.2\n",
       "2  28/10/2011       20.2\n",
       "3  29/10/2011       29.6\n",
       "4  30/10/2011       34.2"
      ]
     },
     "execution_count": 2,
     "metadata": {},
     "output_type": "execute_result"
    }
   ],
   "source": [
    "df=pd.read_csv(\"solarpower.csv\")\n",
    "df.head()"
   ]
  },
  {
   "cell_type": "code",
   "execution_count": 3,
   "id": "9bcc336e-4388-46a6-9633-9dd14a6acdf0",
   "metadata": {},
   "outputs": [
    {
     "data": {
      "text/html": [
       "<div>\n",
       "<style scoped>\n",
       "    .dataframe tbody tr th:only-of-type {\n",
       "        vertical-align: middle;\n",
       "    }\n",
       "\n",
       "    .dataframe tbody tr th {\n",
       "        vertical-align: top;\n",
       "    }\n",
       "\n",
       "    .dataframe thead th {\n",
       "        text-align: right;\n",
       "    }\n",
       "</style>\n",
       "<table border=\"1\" class=\"dataframe\">\n",
       "  <thead>\n",
       "    <tr style=\"text-align: right;\">\n",
       "      <th></th>\n",
       "      <th>date</th>\n",
       "      <th>cum_power</th>\n",
       "    </tr>\n",
       "  </thead>\n",
       "  <tbody>\n",
       "    <tr>\n",
       "      <th>2553</th>\n",
       "      <td>22/10/2018</td>\n",
       "      <td>28101.0</td>\n",
       "    </tr>\n",
       "    <tr>\n",
       "      <th>2554</th>\n",
       "      <td>23/10/2018</td>\n",
       "      <td>28109.0</td>\n",
       "    </tr>\n",
       "    <tr>\n",
       "      <th>2555</th>\n",
       "      <td>24/10/2018</td>\n",
       "      <td>28115.0</td>\n",
       "    </tr>\n",
       "    <tr>\n",
       "      <th>2556</th>\n",
       "      <td>25/10/2018</td>\n",
       "      <td>28117.0</td>\n",
       "    </tr>\n",
       "    <tr>\n",
       "      <th>2557</th>\n",
       "      <td>26/10/2018</td>\n",
       "      <td>28120.0</td>\n",
       "    </tr>\n",
       "  </tbody>\n",
       "</table>\n",
       "</div>"
      ],
      "text/plain": [
       "            date  cum_power\n",
       "2553  22/10/2018    28101.0\n",
       "2554  23/10/2018    28109.0\n",
       "2555  24/10/2018    28115.0\n",
       "2556  25/10/2018    28117.0\n",
       "2557  26/10/2018    28120.0"
      ]
     },
     "execution_count": 3,
     "metadata": {},
     "output_type": "execute_result"
    }
   ],
   "source": [
    "df.tail()"
   ]
  },
  {
   "cell_type": "markdown",
   "id": "1d4ac7f8-7fe8-464d-919d-273c586d2311",
   "metadata": {},
   "source": [
    "# Data Exploration"
   ]
  },
  {
   "cell_type": "code",
   "execution_count": 4,
   "id": "78e21f86-f4df-49ef-964d-15c8ea81feeb",
   "metadata": {},
   "outputs": [
    {
     "data": {
      "text/plain": [
       "(2558, 2)"
      ]
     },
     "execution_count": 4,
     "metadata": {},
     "output_type": "execute_result"
    }
   ],
   "source": [
    "df.shape"
   ]
  },
  {
   "cell_type": "code",
   "execution_count": 5,
   "id": "54aa612e-d225-4919-941c-8d110cf56425",
   "metadata": {},
   "outputs": [
    {
     "data": {
      "text/plain": [
       "Index(['date', 'cum_power'], dtype='object')"
      ]
     },
     "execution_count": 5,
     "metadata": {},
     "output_type": "execute_result"
    }
   ],
   "source": [
    "df.columns"
   ]
  },
  {
   "cell_type": "code",
   "execution_count": 6,
   "id": "f2570fec-7979-4ef1-9198-83a9824c04fd",
   "metadata": {},
   "outputs": [
    {
     "data": {
      "text/html": [
       "<div>\n",
       "<style scoped>\n",
       "    .dataframe tbody tr th:only-of-type {\n",
       "        vertical-align: middle;\n",
       "    }\n",
       "\n",
       "    .dataframe tbody tr th {\n",
       "        vertical-align: top;\n",
       "    }\n",
       "\n",
       "    .dataframe thead th {\n",
       "        text-align: right;\n",
       "    }\n",
       "</style>\n",
       "<table border=\"1\" class=\"dataframe\">\n",
       "  <thead>\n",
       "    <tr style=\"text-align: right;\">\n",
       "      <th></th>\n",
       "      <th>cum_power</th>\n",
       "    </tr>\n",
       "  </thead>\n",
       "  <tbody>\n",
       "    <tr>\n",
       "      <th>count</th>\n",
       "      <td>2558.000000</td>\n",
       "    </tr>\n",
       "    <tr>\n",
       "      <th>mean</th>\n",
       "      <td>13461.057349</td>\n",
       "    </tr>\n",
       "    <tr>\n",
       "      <th>std</th>\n",
       "      <td>8129.192104</td>\n",
       "    </tr>\n",
       "    <tr>\n",
       "      <th>min</th>\n",
       "      <td>0.100000</td>\n",
       "    </tr>\n",
       "    <tr>\n",
       "      <th>25%</th>\n",
       "      <td>6665.350000</td>\n",
       "    </tr>\n",
       "    <tr>\n",
       "      <th>50%</th>\n",
       "      <td>13000.500000</td>\n",
       "    </tr>\n",
       "    <tr>\n",
       "      <th>75%</th>\n",
       "      <td>20183.750000</td>\n",
       "    </tr>\n",
       "    <tr>\n",
       "      <th>max</th>\n",
       "      <td>28120.000000</td>\n",
       "    </tr>\n",
       "  </tbody>\n",
       "</table>\n",
       "</div>"
      ],
      "text/plain": [
       "          cum_power\n",
       "count   2558.000000\n",
       "mean   13461.057349\n",
       "std     8129.192104\n",
       "min        0.100000\n",
       "25%     6665.350000\n",
       "50%    13000.500000\n",
       "75%    20183.750000\n",
       "max    28120.000000"
      ]
     },
     "execution_count": 6,
     "metadata": {},
     "output_type": "execute_result"
    }
   ],
   "source": [
    "df.describe()"
   ]
  },
  {
   "cell_type": "code",
   "execution_count": 7,
   "id": "782fd91b-f068-41df-adfe-0ca8addf72ed",
   "metadata": {},
   "outputs": [
    {
     "name": "stdout",
     "output_type": "stream",
     "text": [
      "<class 'pandas.core.frame.DataFrame'>\n",
      "RangeIndex: 2558 entries, 0 to 2557\n",
      "Data columns (total 2 columns):\n",
      " #   Column     Non-Null Count  Dtype  \n",
      "---  ------     --------------  -----  \n",
      " 0   date       2558 non-null   object \n",
      " 1   cum_power  2558 non-null   float64\n",
      "dtypes: float64(1), object(1)\n",
      "memory usage: 40.1+ KB\n"
     ]
    }
   ],
   "source": [
    "df.info()"
   ]
  },
  {
   "cell_type": "code",
   "execution_count": 8,
   "id": "7cdc2fe7-0fe6-4209-b20f-31c9a9eb442e",
   "metadata": {},
   "outputs": [
    {
     "data": {
      "text/plain": [
       "date         0\n",
       "cum_power    0\n",
       "dtype: int64"
      ]
     },
     "execution_count": 8,
     "metadata": {},
     "output_type": "execute_result"
    }
   ],
   "source": [
    "df.isnull().sum()"
   ]
  },
  {
   "cell_type": "markdown",
   "id": "fad31f6e-9587-4b98-ab9a-a31a67e110d6",
   "metadata": {},
   "source": [
    "# Create Data Column"
   ]
  },
  {
   "cell_type": "code",
   "execution_count": 9,
   "id": "a9d394c9-305b-4c53-8292-b991eb9d811c",
   "metadata": {},
   "outputs": [
    {
     "name": "stdout",
     "output_type": "stream",
     "text": [
      "            cum_power\n",
      "date                 \n",
      "2011-11-01       46.6\n",
      "2011-12-01      170.7\n",
      "2012-01-01      226.7\n",
      "2012-02-01      307.4\n",
      "2012-03-01      461.2\n"
     ]
    },
    {
     "name": "stderr",
     "output_type": "stream",
     "text": [
      "C:\\Users\\HP\\AppData\\Local\\Temp\\ipykernel_16628\\2512294203.py:1: UserWarning: Parsing dates in %d/%m/%Y format when dayfirst=False (the default) was specified. Pass `dayfirst=True` or specify a format to silence this warning.\n",
      "  df['date'] = pd.to_datetime(df['date'])\n"
     ]
    }
   ],
   "source": [
    "df['date'] = pd.to_datetime(df['date'])\n",
    "df.set_index('date', inplace=True)\n",
    "df = df.asfreq('MS')  # Monthly start, adjust if different\n",
    "\n",
    "print(df.head())"
   ]
  },
  {
   "cell_type": "markdown",
   "id": "f4f45059-12bb-4274-aca0-2ccb74a059f2",
   "metadata": {},
   "source": [
    "# Plot The Original Series"
   ]
  },
  {
   "cell_type": "code",
   "execution_count": 10,
   "id": "29235b21-6c9b-4184-b608-753faa05790b",
   "metadata": {},
   "outputs": [
    {
     "data": {
      "image/png": "[encoded data removed]",
      "text/plain": [
       "<Figure size 1000x500 with 1 Axes>"
      ]
     },
     "metadata": {},
     "output_type": "display_data"
    }
   ],
   "source": [
    "import matplotlib.pyplot as plt\n",
    "\n",
    "df.plot(figsize=(10, 5), title='Solar Power Consumption Over Time')\n",
    "plt.xlabel('Time')\n",
    "plt.ylabel('Consumption')\n",
    "plt.grid(True)\n",
    "plt.show()\n"
   ]
  },
  {
   "cell_type": "markdown",
   "id": "8367a87d-42b0-48a5-8cf8-ffa38b5133ef",
   "metadata": {},
   "source": [
    "# Train- Test Split"
   ]
  },
  {
   "cell_type": "code",
   "execution_count": 11,
   "id": "63ab3b89-7f49-443f-a9a5-9588fbcbdbd3",
   "metadata": {},
   "outputs": [],
   "source": [
    "# Split the data into train and test (e.g., last 12 months as test)\n",
    "train = df.iloc[:-12]\n",
    "test = df.iloc[-12:]"
   ]
  },
  {
   "cell_type": "markdown",
   "id": "074c6fd8-098c-4012-81a8-357383592197",
   "metadata": {},
   "source": [
    "Case 1: If Data is Stationary\n",
    "Use: ARIMA\n",
    "Tests:\n",
    "ADF Test\n",
    "ACF and PACF plots\n",
    "\n",
    "\n",
    "🔹 Case 2: If Data has Trend + Seasonality\n",
    "Use: Holt-Winters Exponential Smoothing or SARIMA\n",
    "Tests:\n",
    "Seasonal Decompose\n",
    "Plot & Visual inspection\n",
    "\n"
   ]
  },
  {
   "cell_type": "code",
   "execution_count": 12,
   "id": "b1b6cfcc-8629-4989-9ad5-9e572fc2b953",
   "metadata": {},
   "outputs": [],
   "source": [
    "# ✨ Sample Code for ADF Test"
   ]
  },
  {
   "cell_type": "code",
   "execution_count": 13,
   "id": "d03418c7-4d39-4940-8dbf-7eb46b152804",
   "metadata": {},
   "outputs": [
    {
     "name": "stdout",
     "output_type": "stream",
     "text": [
      "ADF Statistic: 1.7747041303877549\n",
      "p-value: 0.9982975048822335\n"
     ]
    }
   ],
   "source": [
    "from statsmodels.tsa.stattools import adfuller\n",
    "\n",
    "result = adfuller(df['cum_power'].dropna())\n",
    "print('ADF Statistic:', result[0])\n",
    "print('p-value:', result[1])\n"
   ]
  },
  {
   "cell_type": "markdown",
   "id": "cee81220-5f7f-4b61-b122-b997165542b1",
   "metadata": {},
   "source": [
    "# Fit the Holt-Winters model"
   ]
  },
  {
   "cell_type": "code",
   "execution_count": 14,
   "id": "7c67ed2f-6e3b-468e-99d0-cb16d1a86a2d",
   "metadata": {},
   "outputs": [],
   "source": [
    "\n",
    "model = ExponentialSmoothing(train['cum_power'],\n",
    "                             trend='add',\n",
    "                             seasonal='add',\n",
    "                             seasonal_periods=12)\n",
    "\n",
    "hw_fit = model.fit()"
   ]
  },
  {
   "cell_type": "code",
   "execution_count": 15,
   "id": "f9595d2f-8a98-48bf-a7d8-b8b733e52db3",
   "metadata": {},
   "outputs": [
    {
     "data": {
      "text/plain": [
       "2017-11-01    23932.603479\n",
       "2017-12-01    24043.874071\n",
       "2018-01-01    24138.260382\n",
       "2018-02-01    24240.336904\n",
       "2018-03-01    24403.266426\n",
       "2018-04-01    24737.380116\n",
       "2018-05-01    25196.750127\n",
       "2018-06-01    25789.081712\n",
       "2018-07-01    26376.859022\n",
       "2018-08-01    26941.214120\n",
       "2018-09-01    27430.238316\n",
       "2018-10-01    27785.028836\n",
       "Freq: MS, dtype: float64"
      ]
     },
     "execution_count": 15,
     "metadata": {},
     "output_type": "execute_result"
    }
   ],
   "source": [
    "# Forecast the next 12 months\n",
    "forecast = hw_fit.forecast(12)\n",
    "forecast"
   ]
  },
  {
   "cell_type": "code",
   "execution_count": 16,
   "id": "3d3e77a3-f2e2-4e67-ab2b-a78a94b16bcb",
   "metadata": {},
   "outputs": [
    {
     "data": {
      "image/png": "[encoded data removed]",
      "text/plain": [
       "<Figure size 1000x500 with 1 Axes>"
      ]
     },
     "metadata": {},
     "output_type": "display_data"
    }
   ],
   "source": [
    "# Plot the forecast vs actual\n",
    "plt.figure(figsize=(10,5))\n",
    "plt.plot(train.index, train['cum_power'], label='Train')\n",
    "plt.plot(test.index, test['cum_power'], label='Actual')\n",
    "plt.plot(test.index, forecast, label='Forecast', linestyle='--')\n",
    "plt.legend()\n",
    "plt.title(\"Holt-Winters Forecast vs Actual\")\n",
    "plt.show()"
   ]
  },
  {
   "cell_type": "code",
   "execution_count": null,
   "id": "b027d0f5-fcb1-483a-b419-0dc475a0a965",
   "metadata": {},
   "outputs": [],
   "source": []
  },
  {
   "cell_type": "code",
   "execution_count": null,
   "id": "8bfbfa20-80a3-4c3b-bba8-12953f8f4f67",
   "metadata": {},
   "outputs": [],
   "source": []
  },
  {
   "cell_type": "markdown",
   "id": "007103b6-0b23-474e-b665-f7961a995a5d",
   "metadata": {},
   "source": [
    " # Insights from the Forecast:\n",
    "If the RMSE is low, it means your Holt-Winters model is fitting the trend + seasonality well.\n",
    "\n",
    "The model is well-suited for seasonal time series like solar power data which often shows cyclic patterns (e.g., higher in summer, lower in winter)."
   ]
  },
  {
   "cell_type": "markdown",
   "id": "c3d2dabf-06f7-4129-a3df-a26a5bc05a85",
   "metadata": {},
   "source": [
    "# ✅ Final Inference:\n",
    "The Holt-Winters model provided a reliable forecast that reveals clear seasonal patterns and a likely upward trend in solar power usage. These insights support the transition towards sustainable energy by identifying peak usage periods and helping in better planning of infrastructure and policies.\n",
    "\n",
    "This model can be reused and updated periodically for decision-making, monitoring, and goal tracking in the shift towards renewable energy."
   ]
  },
  {
   "cell_type": "code",
   "execution_count": null,
   "id": "b5cbaf2d-9b6a-4240-b4f3-8636e30d2615",
   "metadata": {},
   "outputs": [],
   "source": []
  },
  {
   "cell_type": "code",
   "execution_count": null,
   "id": "241e4804-fa71-4fa3-866d-44970832cb32",
   "metadata": {},
   "outputs": [],
   "source": []
  }
 ],
 "metadata": {
  "kernelspec": {
   "display_name": "Python 3 (ipykernel)",
   "language": "python",
   "name": "python3"
  },
  "language_info": {
   "codemirror_mode": {
    "name": "ipython",
    "version": 3
   },
   "file_extension": ".py",
   "mimetype": "text/x-python",
   "name": "python",
   "nbconvert_exporter": "python",
   "pygments_lexer": "ipython3",
   "version": "3.12.3"
  }
 },
 "nbformat": 4,
 "nbformat_minor": 5
}
