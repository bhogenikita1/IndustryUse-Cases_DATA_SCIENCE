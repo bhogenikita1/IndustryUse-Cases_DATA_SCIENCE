{
 "cells": [
  {
   "cell_type": "markdown",
   "id": "75de524f-416f-4f4b-b09b-aa819ef56faa",
   "metadata": {},
   "source": [
    "# 2. Business Problem\n",
    "\n",
    "A hospital wants to determine whether there is any difference in the average Turn Around Time (TAT) of reports of the laboratories on their preferred list. They collected a random sample and recorded TAT for reports of 4 laboratories. TAT is defined as sample collected to report dispatch.\r\n",
    "Analyze the data and determine whether there is any difference in average TAT among the different laboratories at 5% significance level.\r\n",
    "File: LabTAT.csv\r\n"
   ]
  },
  {
   "cell_type": "markdown",
   "id": "fb7241ce-80e2-46fb-bb7c-2b23ba50578b",
   "metadata": {},
   "source": [
    "# Business Objective\n",
    "\n",
    "The hospital wants to analyze whether there is a significant difference in the average Turn Around Time (TAT) for reports across four laboratories. If differences exist, the hospital can optimize lab selection and improve efficiency."
   ]
  },
  {
   "cell_type": "markdown",
   "id": "5b079488-b20c-4b19-aaf9-7d0d01ade09b",
   "metadata": {},
   "source": [
    "# Constraints\n",
    "\n",
    "1. Data Availability – Accuracy depends on the quality of TAT data.\n",
    "2. Normality & Variance Assumptions – Required for ANOVA; if violated, alternative tests are needed.\n",
    "3. External Factors – Lab workload, sample type, and operational efficiency may impact TAT.\n",
    "4. 5% Significance Level – Small probability of incorrect conclusions.\n"
   ]
  },
  {
   "cell_type": "code",
   "execution_count": 1,
   "id": "50ff0d3c-ac2c-4bee-a50c-969fd6516c10",
   "metadata": {},
   "outputs": [],
   "source": [
    "import pandas as pd\n",
    "import numpy as np\n",
    "import scipy \n",
    "from scipy import stats\n",
    "#provides statistical functions\n",
    "#stats contains a variety of statstical tests\n",
    "from statsmodels.stats import descriptivestats as sd\n",
    "#provides descriptive stastics tools, including the sign test\n",
    "from statsmodels.stats.weightstats import ztest\n",
    "#Used for conducting z-tests on datasets.\n",
    "import pylab\n"
   ]
  },
  {
   "cell_type": "code",
   "execution_count": 2,
   "id": "5a1af2be-3b44-4803-9df5-c4a2c0a9b5ee",
   "metadata": {},
   "outputs": [
    {
     "data": {
      "text/html": [
       "<div>\n",
       "<style scoped>\n",
       "    .dataframe tbody tr th:only-of-type {\n",
       "        vertical-align: middle;\n",
       "    }\n",
       "\n",
       "    .dataframe tbody tr th {\n",
       "        vertical-align: top;\n",
       "    }\n",
       "\n",
       "    .dataframe thead th {\n",
       "        text-align: right;\n",
       "    }\n",
       "</style>\n",
       "<table border=\"1\" class=\"dataframe\">\n",
       "  <thead>\n",
       "    <tr style=\"text-align: right;\">\n",
       "      <th></th>\n",
       "      <th>Laboratory_1</th>\n",
       "      <th>Laboratory_2</th>\n",
       "      <th>Laboratory_3</th>\n",
       "      <th>Laboratory_4</th>\n",
       "    </tr>\n",
       "  </thead>\n",
       "  <tbody>\n",
       "    <tr>\n",
       "      <th>0</th>\n",
       "      <td>185.35</td>\n",
       "      <td>165.53</td>\n",
       "      <td>176.70</td>\n",
       "      <td>166.13</td>\n",
       "    </tr>\n",
       "    <tr>\n",
       "      <th>1</th>\n",
       "      <td>170.49</td>\n",
       "      <td>185.91</td>\n",
       "      <td>198.45</td>\n",
       "      <td>160.79</td>\n",
       "    </tr>\n",
       "    <tr>\n",
       "      <th>2</th>\n",
       "      <td>192.77</td>\n",
       "      <td>194.92</td>\n",
       "      <td>201.23</td>\n",
       "      <td>185.18</td>\n",
       "    </tr>\n",
       "    <tr>\n",
       "      <th>3</th>\n",
       "      <td>177.33</td>\n",
       "      <td>183.00</td>\n",
       "      <td>199.61</td>\n",
       "      <td>176.42</td>\n",
       "    </tr>\n",
       "    <tr>\n",
       "      <th>4</th>\n",
       "      <td>193.41</td>\n",
       "      <td>169.57</td>\n",
       "      <td>204.63</td>\n",
       "      <td>152.60</td>\n",
       "    </tr>\n",
       "  </tbody>\n",
       "</table>\n",
       "</div>"
      ],
      "text/plain": [
       "   Laboratory_1  Laboratory_2  Laboratory_3  Laboratory_4\n",
       "0        185.35        165.53        176.70        166.13\n",
       "1        170.49        185.91        198.45        160.79\n",
       "2        192.77        194.92        201.23        185.18\n",
       "3        177.33        183.00        199.61        176.42\n",
       "4        193.41        169.57        204.63        152.60"
      ]
     },
     "execution_count": 2,
     "metadata": {},
     "output_type": "execute_result"
    }
   ],
   "source": [
    "data= pd.read_csv(\"lab_tat_updated.csv\")\n",
    "data.head()"
   ]
  },
  {
   "cell_type": "code",
   "execution_count": 3,
   "id": "05be711d-f166-4d5c-81ae-73a7d2197ead",
   "metadata": {},
   "outputs": [
    {
     "data": {
      "text/html": [
       "<div>\n",
       "<style scoped>\n",
       "    .dataframe tbody tr th:only-of-type {\n",
       "        vertical-align: middle;\n",
       "    }\n",
       "\n",
       "    .dataframe tbody tr th {\n",
       "        vertical-align: top;\n",
       "    }\n",
       "\n",
       "    .dataframe thead th {\n",
       "        text-align: right;\n",
       "    }\n",
       "</style>\n",
       "<table border=\"1\" class=\"dataframe\">\n",
       "  <thead>\n",
       "    <tr style=\"text-align: right;\">\n",
       "      <th></th>\n",
       "      <th>Laboratory_1</th>\n",
       "      <th>Laboratory_2</th>\n",
       "      <th>Laboratory_3</th>\n",
       "      <th>Laboratory_4</th>\n",
       "    </tr>\n",
       "  </thead>\n",
       "  <tbody>\n",
       "    <tr>\n",
       "      <th>count</th>\n",
       "      <td>120.000000</td>\n",
       "      <td>120.000000</td>\n",
       "      <td>120.000000</td>\n",
       "      <td>120.00000</td>\n",
       "    </tr>\n",
       "    <tr>\n",
       "      <th>mean</th>\n",
       "      <td>178.257333</td>\n",
       "      <td>178.902917</td>\n",
       "      <td>200.210167</td>\n",
       "      <td>163.68275</td>\n",
       "    </tr>\n",
       "    <tr>\n",
       "      <th>std</th>\n",
       "      <td>13.919668</td>\n",
       "      <td>14.957114</td>\n",
       "      <td>15.794801</td>\n",
       "      <td>15.08508</td>\n",
       "    </tr>\n",
       "    <tr>\n",
       "      <th>min</th>\n",
       "      <td>140.250000</td>\n",
       "      <td>140.550000</td>\n",
       "      <td>170.580000</td>\n",
       "      <td>124.06000</td>\n",
       "    </tr>\n",
       "    <tr>\n",
       "      <th>25%</th>\n",
       "      <td>170.267500</td>\n",
       "      <td>168.025000</td>\n",
       "      <td>190.182500</td>\n",
       "      <td>154.05000</td>\n",
       "    </tr>\n",
       "    <tr>\n",
       "      <th>50%</th>\n",
       "      <td>179.055000</td>\n",
       "      <td>178.870000</td>\n",
       "      <td>198.610000</td>\n",
       "      <td>164.42500</td>\n",
       "    </tr>\n",
       "    <tr>\n",
       "      <th>75%</th>\n",
       "      <td>187.222500</td>\n",
       "      <td>189.112500</td>\n",
       "      <td>211.197500</td>\n",
       "      <td>172.88250</td>\n",
       "    </tr>\n",
       "    <tr>\n",
       "      <th>max</th>\n",
       "      <td>216.390000</td>\n",
       "      <td>217.860000</td>\n",
       "      <td>238.700000</td>\n",
       "      <td>205.18000</td>\n",
       "    </tr>\n",
       "  </tbody>\n",
       "</table>\n",
       "</div>"
      ],
      "text/plain": [
       "       Laboratory_1  Laboratory_2  Laboratory_3  Laboratory_4\n",
       "count    120.000000    120.000000    120.000000     120.00000\n",
       "mean     178.257333    178.902917    200.210167     163.68275\n",
       "std       13.919668     14.957114     15.794801      15.08508\n",
       "min      140.250000    140.550000    170.580000     124.06000\n",
       "25%      170.267500    168.025000    190.182500     154.05000\n",
       "50%      179.055000    178.870000    198.610000     164.42500\n",
       "75%      187.222500    189.112500    211.197500     172.88250\n",
       "max      216.390000    217.860000    238.700000     205.18000"
      ]
     },
     "execution_count": 3,
     "metadata": {},
     "output_type": "execute_result"
    }
   ],
   "source": [
    "data.describe()"
   ]
  },
  {
   "cell_type": "code",
   "execution_count": 4,
   "id": "0557597f-c389-4673-bf86-5696c782b760",
   "metadata": {},
   "outputs": [],
   "source": [
    "data.columns=['Laboratory_1','Laboratory_2','Laboratory_3','Laboratory_4']"
   ]
  },
  {
   "cell_type": "code",
   "execution_count": 5,
   "id": "8b52d04e-2577-4bda-b6fe-a45fe2eb8ca1",
   "metadata": {},
   "outputs": [
    {
     "data": {
      "text/plain": [
       "Laboratory_1    0\n",
       "Laboratory_2    0\n",
       "Laboratory_3    0\n",
       "Laboratory_4    0\n",
       "dtype: int64"
      ]
     },
     "execution_count": 5,
     "metadata": {},
     "output_type": "execute_result"
    }
   ],
   "source": [
    "data.isnull().sum()"
   ]
  },
  {
   "cell_type": "code",
   "execution_count": 6,
   "id": "2b9ff5cf-3df3-4f3a-8f61-bc644f44745d",
   "metadata": {},
   "outputs": [
    {
     "name": "stdout",
     "output_type": "stream",
     "text": [
      "Shapiro_Lab1:  ShapiroResult(statistic=0.9886689843295583, pvalue=0.42316547647722136)\n",
      "Shapiro_Lab2:  ShapiroResult(statistic=0.9936320020018462, pvalue=0.8637345311091214)\n",
      "Shapiro_Lab3:  ShapiroResult(statistic=0.9796067665538031, pvalue=0.06547079619606683)\n",
      "Shapiro_Lab4:  ShapiroResult(statistic=0.9913755409425613, pvalue=0.6619161995270413)\n"
     ]
    }
   ],
   "source": [
    "print(\"Shapiro_Lab1: \",stats.shapiro(data['Laboratory_1']))\n",
    "print(\"Shapiro_Lab2: \",stats.shapiro(data['Laboratory_2']))\n",
    "print(\"Shapiro_Lab3: \",stats.shapiro(data['Laboratory_3']))\n",
    "print(\"Shapiro_Lab4: \",stats.shapiro(data['Laboratory_4']))\n"
   ]
  },
  {
   "cell_type": "markdown",
   "id": "395c16e0-555d-4ba2-be4a-2faa6935e3e3",
   "metadata": {},
   "source": [
    "# Normality Result\n",
    "\n",
    "All P-Values are greater than 0.05\n",
    "\n",
    "Fails To reject the Null Hypothesis(Data is Normally Distributed)"
   ]
  },
  {
   "cell_type": "markdown",
   "id": "3554723b-6eaf-4530-ac86-aa7f36254e9a",
   "metadata": {},
   "source": [
    "# Variance Test"
   ]
  },
  {
   "cell_type": "code",
   "execution_count": 7,
   "id": "bdd40c97-3be1-432e-b829-9f84183fd0d6",
   "metadata": {},
   "outputs": [
    {
     "name": "stdout",
     "output_type": "stream",
     "text": [
      "levene_test(Variance):  LeveneResult(statistic=1.025294593220823, pvalue=0.38107781677304564)\n"
     ]
    }
   ],
   "source": [
    "levene_test=scipy.stats.levene(data.Laboratory_1,data.Laboratory_2,data.Laboratory_3,data.Laboratory_4)\n",
    "print('levene_test(Variance): ',levene_test)"
   ]
  },
  {
   "cell_type": "markdown",
   "id": "f95515c0-34a1-4e81-a03c-ae8546a705ff",
   "metadata": {},
   "source": [
    "# Variance Test Result \n",
    "\n",
    "pvalue=0.38107 > 0.05 that means Fails to reject Null Hypothesis(Accept H0)\n"
   ]
  },
  {
   "cell_type": "markdown",
   "id": "95d1cb65-2e1b-4031-b5e8-b686b28aced9",
   "metadata": {},
   "source": [
    "# 1 way Anova test"
   ]
  },
  {
   "cell_type": "code",
   "execution_count": 10,
   "id": "5f62bb2e-17f0-4258-ba16-3ea5cb74761d",
   "metadata": {},
   "outputs": [
    {
     "name": "stdout",
     "output_type": "stream",
     "text": [
      "One Way Anova:  F_onewayResult(statistic=121.39264646442368, pvalue=2.143740909435053e-58)\n"
     ]
    }
   ],
   "source": [
    "anova_result=stats.f_oneway(data.Laboratory_1,data.Laboratory_2,data.Laboratory_3,data.Laboratory_4)\n",
    "print(\"One Way Anova: \",anova_result)"
   ]
  },
  {
   "cell_type": "markdown",
   "id": "d4ea0245-67a6-4f4d-a68e-91315131b183",
   "metadata": {},
   "source": [
    "<b>#Result : P-value==> 2.1437\n",
    "\n",
    "<b>#Interpretation:</b>\n",
    "#H0: No significant difference in average TAT across labs.\n",
    "#H1: There is significant diff in avg TAT across Labs.\n",
    "\n",
    "#Since the p-value (2.1437)>0.05 that means Fails to reject the HO(Accept H0)\n",
    "\n",
    "<b>#Conclusion: there is no significant difference in the average Turn Around Time (TAT) for reports across four laboratories.</b>"
   ]
  },
  {
   "cell_type": "markdown",
   "id": "c1c73024-016c-4937-a384-324aaa75c8fd",
   "metadata": {},
   "source": []
  }
 ],
 "metadata": {
  "kernelspec": {
   "display_name": "Python 3 (ipykernel)",
   "language": "python",
   "name": "python3"
  },
  "language_info": {
   "codemirror_mode": {
    "name": "ipython",
    "version": 3
   },
   "file_extension": ".py",
   "mimetype": "text/x-python",
   "name": "python",
   "nbconvert_exporter": "python",
   "pygments_lexer": "ipython3",
   "version": "3.12.3"
  }
 },
 "nbformat": 4,
 "nbformat_minor": 5
}
