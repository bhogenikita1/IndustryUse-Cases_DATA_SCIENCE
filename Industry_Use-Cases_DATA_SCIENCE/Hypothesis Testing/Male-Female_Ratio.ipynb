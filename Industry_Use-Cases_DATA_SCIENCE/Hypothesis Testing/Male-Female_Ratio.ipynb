{
 "cells": [
  {
   "attachments": {},
   "cell_type": "markdown",
   "id": "fca0b644-5957-4d99-bb4a-2a57e58400a0",
   "metadata": {},
   "source": [
    "# 3.Business Problem\n",
    "\n",
    "Sales of products in four different regions is tabulated for males and females. \n",
    "Find if male-female buyer rations are similar across regions.\n",
    "East West North South\n",
    "Males\t50\t142\t131\t70\n",
    "Females\t550\t351\t480\t350\n"
   ]
  },
  {
   "cell_type": "markdown",
   "id": "85df9099-5fea-4548-ae71-0b239f738a5f",
   "metadata": {},
   "source": [
    "# Business Objective\n",
    "\n",
    "\n",
    "Determine if there is a significant difference in the proportion of male and female buyers across regions.\n",
    "Help the company optimize marketing campaigns based on gender-based purchasing trends.\n",
    "Ensure effective resource allocation for region-specific promotions."
   ]
  },
  {
   "cell_type": "markdown",
   "id": "1f09cd83-b59a-4701-954a-417d324f3d4e",
   "metadata": {},
   "source": [
    "# Constraints \n",
    "\n",
    "1. Data Accuracy – The analysis depends on correctly collected sales data.\n",
    "2. Statistical Assumptions – Requires categorical data analysis (Chi-Square test) and sufficient sample size.\n",
    "3. External Factors – Social, economic, and cultural influences may affect purchasing behavior but are not accounted for in the dataset.\n",
    "4. Significance Level (5%) – There’s a small chance of incorrect conclusions.\n"
   ]
  },
  {
   "cell_type": "code",
   "execution_count": 1,
   "id": "708e74b7-0711-4879-82d8-e092743a5eeb",
   "metadata": {},
   "outputs": [],
   "source": [
    "import pandas as pd\n",
    "import numpy as np\n",
    "import scipy \n",
    "from scipy import stats\n",
    "#provides statistical functions\n",
    "#stats contains a variety of statstical tests\n",
    "from statsmodels.stats import descriptivestats as sd\n",
    "#provides descriptive stastics tools, including the sign test\n",
    "from statsmodels.stats.weightstats import ztest\n",
    "#Used for conducting z-tests on datasets.\n",
    "import pylab\n"
   ]
  },
  {
   "cell_type": "code",
   "execution_count": 4,
   "id": "1f1fbcac-fe09-49c0-98c3-2b3d7f1a3f35",
   "metadata": {},
   "outputs": [
    {
     "data": {
      "text/html": [
       "<div>\n",
       "<style scoped>\n",
       "    .dataframe tbody tr th:only-of-type {\n",
       "        vertical-align: middle;\n",
       "    }\n",
       "\n",
       "    .dataframe tbody tr th {\n",
       "        vertical-align: top;\n",
       "    }\n",
       "\n",
       "    .dataframe thead th {\n",
       "        text-align: right;\n",
       "    }\n",
       "</style>\n",
       "<table border=\"1\" class=\"dataframe\">\n",
       "  <thead>\n",
       "    <tr style=\"text-align: right;\">\n",
       "      <th></th>\n",
       "      <th>Observed Values</th>\n",
       "      <th>East</th>\n",
       "      <th>West</th>\n",
       "      <th>North</th>\n",
       "      <th>South</th>\n",
       "    </tr>\n",
       "  </thead>\n",
       "  <tbody>\n",
       "    <tr>\n",
       "      <th>0</th>\n",
       "      <td>Males</td>\n",
       "      <td>50</td>\n",
       "      <td>142</td>\n",
       "      <td>131</td>\n",
       "      <td>70</td>\n",
       "    </tr>\n",
       "    <tr>\n",
       "      <th>1</th>\n",
       "      <td>Females</td>\n",
       "      <td>435</td>\n",
       "      <td>1523</td>\n",
       "      <td>1356</td>\n",
       "      <td>750</td>\n",
       "    </tr>\n",
       "  </tbody>\n",
       "</table>\n",
       "</div>"
      ],
      "text/plain": [
       "  Observed Values  East  West  North  South\n",
       "0           Males    50   142    131     70\n",
       "1         Females   435  1523   1356    750"
      ]
     },
     "execution_count": 4,
     "metadata": {},
     "output_type": "execute_result"
    }
   ],
   "source": [
    "data=pd.read_csv(\"BuyerRatio.csv\")\n",
    "data"
   ]
  },
  {
   "cell_type": "code",
   "execution_count": 5,
   "id": "c520c3b9-e2b4-40ad-a1bd-81de937ef952",
   "metadata": {},
   "outputs": [
    {
     "data": {
      "text/html": [
       "<div>\n",
       "<style scoped>\n",
       "    .dataframe tbody tr th:only-of-type {\n",
       "        vertical-align: middle;\n",
       "    }\n",
       "\n",
       "    .dataframe tbody tr th {\n",
       "        vertical-align: top;\n",
       "    }\n",
       "\n",
       "    .dataframe thead th {\n",
       "        text-align: right;\n",
       "    }\n",
       "</style>\n",
       "<table border=\"1\" class=\"dataframe\">\n",
       "  <thead>\n",
       "    <tr style=\"text-align: right;\">\n",
       "      <th></th>\n",
       "      <th>East</th>\n",
       "      <th>West</th>\n",
       "      <th>North</th>\n",
       "      <th>South</th>\n",
       "    </tr>\n",
       "  </thead>\n",
       "  <tbody>\n",
       "    <tr>\n",
       "      <th>count</th>\n",
       "      <td>2.000000</td>\n",
       "      <td>2.000000</td>\n",
       "      <td>2.000000</td>\n",
       "      <td>2.000000</td>\n",
       "    </tr>\n",
       "    <tr>\n",
       "      <th>mean</th>\n",
       "      <td>242.500000</td>\n",
       "      <td>832.500000</td>\n",
       "      <td>743.500000</td>\n",
       "      <td>410.000000</td>\n",
       "    </tr>\n",
       "    <tr>\n",
       "      <th>std</th>\n",
       "      <td>272.236111</td>\n",
       "      <td>976.514465</td>\n",
       "      <td>866.205807</td>\n",
       "      <td>480.832611</td>\n",
       "    </tr>\n",
       "    <tr>\n",
       "      <th>min</th>\n",
       "      <td>50.000000</td>\n",
       "      <td>142.000000</td>\n",
       "      <td>131.000000</td>\n",
       "      <td>70.000000</td>\n",
       "    </tr>\n",
       "    <tr>\n",
       "      <th>25%</th>\n",
       "      <td>146.250000</td>\n",
       "      <td>487.250000</td>\n",
       "      <td>437.250000</td>\n",
       "      <td>240.000000</td>\n",
       "    </tr>\n",
       "    <tr>\n",
       "      <th>50%</th>\n",
       "      <td>242.500000</td>\n",
       "      <td>832.500000</td>\n",
       "      <td>743.500000</td>\n",
       "      <td>410.000000</td>\n",
       "    </tr>\n",
       "    <tr>\n",
       "      <th>75%</th>\n",
       "      <td>338.750000</td>\n",
       "      <td>1177.750000</td>\n",
       "      <td>1049.750000</td>\n",
       "      <td>580.000000</td>\n",
       "    </tr>\n",
       "    <tr>\n",
       "      <th>max</th>\n",
       "      <td>435.000000</td>\n",
       "      <td>1523.000000</td>\n",
       "      <td>1356.000000</td>\n",
       "      <td>750.000000</td>\n",
       "    </tr>\n",
       "  </tbody>\n",
       "</table>\n",
       "</div>"
      ],
      "text/plain": [
       "             East         West        North       South\n",
       "count    2.000000     2.000000     2.000000    2.000000\n",
       "mean   242.500000   832.500000   743.500000  410.000000\n",
       "std    272.236111   976.514465   866.205807  480.832611\n",
       "min     50.000000   142.000000   131.000000   70.000000\n",
       "25%    146.250000   487.250000   437.250000  240.000000\n",
       "50%    242.500000   832.500000   743.500000  410.000000\n",
       "75%    338.750000  1177.750000  1049.750000  580.000000\n",
       "max    435.000000  1523.000000  1356.000000  750.000000"
      ]
     },
     "execution_count": 5,
     "metadata": {},
     "output_type": "execute_result"
    }
   ],
   "source": [
    "data.describe()"
   ]
  },
  {
   "cell_type": "code",
   "execution_count": 7,
   "id": "ab440544-c31d-47eb-82e5-34dbf70a7db7",
   "metadata": {},
   "outputs": [
    {
     "data": {
      "text/plain": [
       "Observed Values    0\n",
       "East               0\n",
       "West               0\n",
       "North              0\n",
       "South              0\n",
       "dtype: int64"
      ]
     },
     "execution_count": 7,
     "metadata": {},
     "output_type": "execute_result"
    }
   ],
   "source": [
    "data.isnull().sum()"
   ]
  },
  {
   "cell_type": "code",
   "execution_count": 10,
   "id": "3fffe24c-627e-4f97-8290-4dd47071b641",
   "metadata": {},
   "outputs": [],
   "source": [
    "observed=np.array([[50,142,131,70],\n",
    "                 [435,1523,1356,750]]\n",
    "                 )"
   ]
  },
  {
   "cell_type": "code",
   "execution_count": 11,
   "id": "a3d0383f-6af8-46f1-9084-eb609227981c",
   "metadata": {},
   "outputs": [],
   "source": [
    "# Perform Chi-Square Test\n",
    "chi2_stat, p_value, dof, expected = stats.chi2_contingency(observed)\n"
   ]
  },
  {
   "cell_type": "code",
   "execution_count": 12,
   "id": "134f7ae3-561e-4e0e-a5a8-7fbedeeb6665",
   "metadata": {},
   "outputs": [
    {
     "name": "stdout",
     "output_type": "stream",
     "text": [
      "Chi-Square Statistic: 1.595945538661058\n",
      "P-value: 0.6603094907091882\n",
      "Degrees of Freedom: 3\n",
      "Expected Frequencies Table:\n",
      "[[  42.76531299  146.81287862  131.11756787   72.30424052]\n",
      " [ 442.23468701 1518.18712138 1355.88243213  747.69575948]]\n"
     ]
    }
   ],
   "source": [
    "# Print results\n",
    "print(f\"Chi-Square Statistic: {chi2_stat}\")\n",
    "print(f\"P-value: {p_value}\")\n",
    "print(f\"Degrees of Freedom: {dof}\")\n",
    "print(\"Expected Frequencies Table:\")\n",
    "print(expected)"
   ]
  },
  {
   "cell_type": "markdown",
   "id": "fc0a948d-45b8-46f8-99d5-f6407f1e7599",
   "metadata": {},
   "source": [
    "# Interpretation: \n",
    "#H0: no significant difference in the male-to-female buyer ratio across different regions.\n",
    "#H1: significant difference in the male-to-female buyer ratio across different regions.\n",
    "\n",
    "p-value>0.05  ==> fails to reject the H0(Accept the H0)\n",
    "\n",
    "conclusion: \n",
    "\n",
    "There is no significant difference in the male-to-female buyer ratio across different regions.\n"
   ]
  },
  {
   "cell_type": "code",
   "execution_count": null,
   "id": "5a55d6bf-db24-4d75-a4ec-9389324c8953",
   "metadata": {},
   "outputs": [],
   "source": []
  }
 ],
 "metadata": {
  "kernelspec": {
   "display_name": "Python 3 (ipykernel)",
   "language": "python",
   "name": "python3"
  },
  "language_info": {
   "codemirror_mode": {
    "name": "ipython",
    "version": 3
   },
   "file_extension": ".py",
   "mimetype": "text/x-python",
   "name": "python",
   "nbconvert_exporter": "python",
   "pygments_lexer": "ipython3",
   "version": "3.12.3"
  }
 },
 "nbformat": 4,
 "nbformat_minor": 5
}
