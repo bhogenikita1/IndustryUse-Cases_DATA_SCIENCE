{
 "cells": [
  {
   "cell_type": "markdown",
   "id": "25e53fc9-0c4d-4acb-8407-cad988ed5f0b",
   "metadata": {},
   "source": [
    "# 1. Business Problem\n",
    "A F&B manager wants to determine whether there is any significant difference \n",
    "in the diameter of the cutlet between two units. \n",
    "A randomly selected sample of cutlets was collected from both units and measured? \n",
    "Analyze the data and draw inferences at 5% significance level. \n",
    "Please state the assumptions and tests that you carried out to check validity of the assumptions.\n",
    "File: Cutlets.csv\n",
    "\n",
    "# 1.1 Objective\n",
    "The goal is to determine whether there is a significant difference in the diameter of cutlets \n",
    "between two production units. \n",
    "This will help the F&B manager assess consistency in the manufacturing process.\n",
    "\n",
    "# 1.2 Constraints\n",
    "Limited sample size, which might affect statistical power.\n",
    "Assumption of normality and equal variance needs to be validated \n",
    "before applying statistical tests."
   ]
  },
  {
   "cell_type": "code",
   "execution_count": 16,
   "id": "373723b9-722e-4cfb-9b9e-4d02bb32115f",
   "metadata": {},
   "outputs": [],
   "source": [
    "import pandas as pd\n",
    "import numpy as np\n",
    "import scipy \n",
    "from scipy import stats\n",
    "#provides statistical functions\n",
    "#stats contains a variety of statstical tests\n",
    "from statsmodels.stats import descriptivestats as sd\n",
    "#provides descriptive stastics tools, including the sign test\n",
    "from statsmodels.stats.weightstats import ztest\n",
    "#Used for conducting z-tests on datasets.\n",
    "import pylab\n"
   ]
  },
  {
   "cell_type": "code",
   "execution_count": 17,
   "id": "1736e578-9488-4c8a-84cb-d10b396423af",
   "metadata": {},
   "outputs": [],
   "source": [
    "data= pd.read_csv(\"Cutlets.csv\")"
   ]
  },
  {
   "cell_type": "code",
   "execution_count": 18,
   "id": "2378fd46-e54a-44cf-aa59-12c14e42dfc9",
   "metadata": {},
   "outputs": [
    {
     "data": {
      "text/html": [
       "<div>\n",
       "<style scoped>\n",
       "    .dataframe tbody tr th:only-of-type {\n",
       "        vertical-align: middle;\n",
       "    }\n",
       "\n",
       "    .dataframe tbody tr th {\n",
       "        vertical-align: top;\n",
       "    }\n",
       "\n",
       "    .dataframe thead th {\n",
       "        text-align: right;\n",
       "    }\n",
       "</style>\n",
       "<table border=\"1\" class=\"dataframe\">\n",
       "  <thead>\n",
       "    <tr style=\"text-align: right;\">\n",
       "      <th></th>\n",
       "      <th>Unit A</th>\n",
       "      <th>Unit B</th>\n",
       "    </tr>\n",
       "  </thead>\n",
       "  <tbody>\n",
       "    <tr>\n",
       "      <th>0</th>\n",
       "      <td>6.8090</td>\n",
       "      <td>6.7703</td>\n",
       "    </tr>\n",
       "    <tr>\n",
       "      <th>1</th>\n",
       "      <td>6.4376</td>\n",
       "      <td>7.5093</td>\n",
       "    </tr>\n",
       "    <tr>\n",
       "      <th>2</th>\n",
       "      <td>6.9157</td>\n",
       "      <td>6.7300</td>\n",
       "    </tr>\n",
       "    <tr>\n",
       "      <th>3</th>\n",
       "      <td>7.3012</td>\n",
       "      <td>6.7878</td>\n",
       "    </tr>\n",
       "    <tr>\n",
       "      <th>4</th>\n",
       "      <td>7.4488</td>\n",
       "      <td>7.1522</td>\n",
       "    </tr>\n",
       "  </tbody>\n",
       "</table>\n",
       "</div>"
      ],
      "text/plain": [
       "   Unit A  Unit B\n",
       "0  6.8090  6.7703\n",
       "1  6.4376  7.5093\n",
       "2  6.9157  6.7300\n",
       "3  7.3012  6.7878\n",
       "4  7.4488  7.1522"
      ]
     },
     "execution_count": 18,
     "metadata": {},
     "output_type": "execute_result"
    }
   ],
   "source": [
    "data.head()"
   ]
  },
  {
   "cell_type": "code",
   "execution_count": 19,
   "id": "9274b685-8824-4924-afed-6e5fb293ed0d",
   "metadata": {},
   "outputs": [
    {
     "data": {
      "text/html": [
       "<div>\n",
       "<style scoped>\n",
       "    .dataframe tbody tr th:only-of-type {\n",
       "        vertical-align: middle;\n",
       "    }\n",
       "\n",
       "    .dataframe tbody tr th {\n",
       "        vertical-align: top;\n",
       "    }\n",
       "\n",
       "    .dataframe thead th {\n",
       "        text-align: right;\n",
       "    }\n",
       "</style>\n",
       "<table border=\"1\" class=\"dataframe\">\n",
       "  <thead>\n",
       "    <tr style=\"text-align: right;\">\n",
       "      <th></th>\n",
       "      <th>Unit A</th>\n",
       "      <th>Unit B</th>\n",
       "    </tr>\n",
       "  </thead>\n",
       "  <tbody>\n",
       "    <tr>\n",
       "      <th>count</th>\n",
       "      <td>35.000000</td>\n",
       "      <td>35.000000</td>\n",
       "    </tr>\n",
       "    <tr>\n",
       "      <th>mean</th>\n",
       "      <td>7.019091</td>\n",
       "      <td>6.964297</td>\n",
       "    </tr>\n",
       "    <tr>\n",
       "      <th>std</th>\n",
       "      <td>0.288408</td>\n",
       "      <td>0.343401</td>\n",
       "    </tr>\n",
       "    <tr>\n",
       "      <th>min</th>\n",
       "      <td>6.437600</td>\n",
       "      <td>6.038000</td>\n",
       "    </tr>\n",
       "    <tr>\n",
       "      <th>25%</th>\n",
       "      <td>6.831500</td>\n",
       "      <td>6.753600</td>\n",
       "    </tr>\n",
       "    <tr>\n",
       "      <th>50%</th>\n",
       "      <td>6.943800</td>\n",
       "      <td>6.939900</td>\n",
       "    </tr>\n",
       "    <tr>\n",
       "      <th>75%</th>\n",
       "      <td>7.280550</td>\n",
       "      <td>7.195000</td>\n",
       "    </tr>\n",
       "    <tr>\n",
       "      <th>max</th>\n",
       "      <td>7.516900</td>\n",
       "      <td>7.545900</td>\n",
       "    </tr>\n",
       "  </tbody>\n",
       "</table>\n",
       "</div>"
      ],
      "text/plain": [
       "          Unit A     Unit B\n",
       "count  35.000000  35.000000\n",
       "mean    7.019091   6.964297\n",
       "std     0.288408   0.343401\n",
       "min     6.437600   6.038000\n",
       "25%     6.831500   6.753600\n",
       "50%     6.943800   6.939900\n",
       "75%     7.280550   7.195000\n",
       "max     7.516900   7.545900"
      ]
     },
     "execution_count": 19,
     "metadata": {},
     "output_type": "execute_result"
    }
   ],
   "source": [
    "data.describe()"
   ]
  },
  {
   "cell_type": "code",
   "execution_count": 20,
   "id": "a450c9a6-8410-402e-a51f-8a4bd650c9a8",
   "metadata": {},
   "outputs": [],
   "source": [
    "data.columns=[\"Unit A\",\"Unit B\"]"
   ]
  },
  {
   "cell_type": "markdown",
   "id": "345b93e5-aa60-44ba-b5ee-d08eb85eab6a",
   "metadata": {},
   "source": [
    "# Normality Test"
   ]
  },
  {
   "cell_type": "code",
   "execution_count": 21,
   "id": "0d7d9332-8fc2-45d2-900c-17268fe27fd1",
   "metadata": {},
   "outputs": [
    {
     "data": {
      "text/plain": [
       "Unit A    16\n",
       "Unit B    16\n",
       "dtype: int64"
      ]
     },
     "execution_count": 21,
     "metadata": {},
     "output_type": "execute_result"
    }
   ],
   "source": [
    "\n",
    "data.isnull().sum()\n"
   ]
  },
  {
   "cell_type": "code",
   "execution_count": 22,
   "id": "726148c2-bed9-4a0b-ae6c-46ecb12f51be",
   "metadata": {},
   "outputs": [],
   "source": [
    "data.dropna(inplace=True)\n"
   ]
  },
  {
   "cell_type": "code",
   "execution_count": 23,
   "id": "ca6b4c80-6309-495a-8f17-9260a7c982c2",
   "metadata": {},
   "outputs": [
    {
     "data": {
      "text/plain": [
       "Unit A    0\n",
       "Unit B    0\n",
       "dtype: int64"
      ]
     },
     "execution_count": 23,
     "metadata": {},
     "output_type": "execute_result"
    }
   ],
   "source": [
    "data.isnull().sum()"
   ]
  },
  {
   "cell_type": "code",
   "execution_count": 26,
   "id": "7f99dd03-3b7f-4468-83a9-bdeb89a260f9",
   "metadata": {},
   "outputs": [
    {
     "name": "stdout",
     "output_type": "stream",
     "text": [
      "shapiro_A:  ShapiroResult(statistic=0.9649456489968531, pvalue=0.31997821996861)\n"
     ]
    }
   ],
   "source": [
    "print('shapiro_A: ',stats.shapiro(data['Unit A']))"
   ]
  },
  {
   "cell_type": "code",
   "execution_count": 27,
   "id": "83585223-9ee9-46d7-820a-702f51d0acc6",
   "metadata": {},
   "outputs": [
    {
     "name": "stdout",
     "output_type": "stream",
     "text": [
      "shapiro_B:  ShapiroResult(statistic=0.9727301795873082, pvalue=0.5225029843840996)\n"
     ]
    }
   ],
   "source": [
    "print('shapiro_B: ',stats.shapiro(data['Unit B']))"
   ]
  },
  {
   "cell_type": "markdown",
   "id": "869b9a69-8808-4e42-8ef5-546bb89f10eb",
   "metadata": {},
   "source": [
    "# Normality Results\n",
    "\n",
    "1. Unit A: p-value = 0.3199 (> 0.05) → Fails to reject the null hypothesis (data is normally distributed).\n",
    "2. Unit B: p-value = 0.5225 (> 0.05) → Fails to reject the null hypothesis (data is normally distributed).\n",
    "\n",
    "Since both Unit A and Unit B are normally distributed, can proceed with a 2-sample T-test."
   ]
  },
  {
   "cell_type": "code",
   "execution_count": 28,
   "id": "63ed6939-e0d6-45f3-a010-bd63416300e5",
   "metadata": {},
   "outputs": [],
   "source": [
    "# Variance Test"
   ]
  },
  {
   "cell_type": "code",
   "execution_count": 30,
   "id": "bca6769b-bfbe-4619-be51-0bbe2de3befb",
   "metadata": {},
   "outputs": [
    {
     "name": "stdout",
     "output_type": "stream",
     "text": [
      "levene_test(Variance):  LeveneResult(statistic=0.6650897638632386, pvalue=0.4176162212502553)\n"
     ]
    }
   ],
   "source": [
    "levene_test=scipy.stats.levene(data['Unit A'],data['Unit B'])\n",
    "print('levene_test(Variance): ',levene_test)"
   ]
  },
  {
   "cell_type": "code",
   "execution_count": 31,
   "id": "b027d943-aa41-436a-9de6-9903d23c6b71",
   "metadata": {},
   "outputs": [],
   "source": [
    "#p-value= 0.4176\n",
    "#H0=variance equal\n",
    "#H1=variance unequal\n",
    "#pvalue=0.4176 > 0.05 Fail to reject null hypothesis(H0 is accpetd)"
   ]
  },
  {
   "cell_type": "markdown",
   "id": "5e56f9d8-bf48-4177-bd88-a51d42f5d04c",
   "metadata": {},
   "source": [
    "# 2 Sample T-test"
   ]
  },
  {
   "cell_type": "code",
   "execution_count": 33,
   "id": "624bae0b-8215-454d-9b5b-81b2065eeff5",
   "metadata": {},
   "outputs": [
    {
     "name": "stdout",
     "output_type": "stream",
     "text": [
      "Two sample T test:  TtestResult(statistic=0.7228688704678063, pvalue=0.4722394724599501, df=68.0)\n"
     ]
    }
   ],
   "source": [
    "TwoSampleTtest=scipy.stats.ttest_ind(data['Unit A'],data['Unit B'])\n",
    "print(\"Two sample T test: \",TwoSampleTtest)"
   ]
  },
  {
   "cell_type": "markdown",
   "id": "d104a4e1-24c7-4fba-8f72-e8481dcb498d",
   "metadata": {},
   "source": [
    "<b>Interpreting the Two-Sample t-test Results\n",
    "\n",
    "t-statistic = 0.7229\n",
    "p-value = 0.4722 (> 0.05)\n",
    "df (degrees of freedom) = 68\n",
    "\n",
    "<b>Conclusion:\n",
    "Since the p-value (0.4722) is greater than 0.05, we fail to reject the null hypothesis.\n",
    "\n",
    "This means there is no significant difference between the mean diameters of cutlets from Unit A and Unit B.\n",
    "\n",
    "In simple words, the cutlets from both units have approximately the same average diameter."
   ]
  },
  {
   "cell_type": "code",
   "execution_count": null,
   "id": "0e998d26-9676-488c-a891-41e754a315c3",
   "metadata": {},
   "outputs": [],
   "source": []
  }
 ],
 "metadata": {
  "kernelspec": {
   "display_name": "Python 3 (ipykernel)",
   "language": "python",
   "name": "python3"
  },
  "language_info": {
   "codemirror_mode": {
    "name": "ipython",
    "version": 3
   },
   "file_extension": ".py",
   "mimetype": "text/x-python",
   "name": "python",
   "nbconvert_exporter": "python",
   "pygments_lexer": "ipython3",
   "version": "3.12.3"
  }
 },
 "nbformat": 4,
 "nbformat_minor": 5
}
